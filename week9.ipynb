{
 "cells": [
  {
   "cell_type": "code",
   "execution_count": 1,
   "id": "8d7d2d4c-9391-4552-b07b-8e52105797f8",
   "metadata": {},
   "outputs": [],
   "source": [
    "import pandas as pd"
   ]
  },
  {
   "cell_type": "code",
   "execution_count": 3,
   "id": "d563e14b-0aa2-4d1f-ad00-286c167fe15d",
   "metadata": {},
   "outputs": [],
   "source": [
    "customers = pd.read_csv('customers_wk9_thurs.csv')"
   ]
  },
  {
   "cell_type": "code",
   "execution_count": 5,
   "id": "10efad5f-3dce-4458-96be-5128cedaf303",
   "metadata": {},
   "outputs": [],
   "source": [
    "products = pd.read_csv('products_wk9_thurs.csv')"
   ]
  },
  {
   "cell_type": "code",
   "execution_count": 7,
   "id": "39508ab7-f167-4497-987f-4287031574d9",
   "metadata": {},
   "outputs": [],
   "source": [
    "sales = pd.read_csv('sales_wk9_thurs.csv')"
   ]
  },
  {
   "cell_type": "code",
   "execution_count": 9,
   "id": "964e3f8b-5975-4064-b32c-7ffda77ad5f5",
   "metadata": {},
   "outputs": [
    {
     "data": {
      "text/html": [
       "<div>\n",
       "<style scoped>\n",
       "    .dataframe tbody tr th:only-of-type {\n",
       "        vertical-align: middle;\n",
       "    }\n",
       "\n",
       "    .dataframe tbody tr th {\n",
       "        vertical-align: top;\n",
       "    }\n",
       "\n",
       "    .dataframe thead th {\n",
       "        text-align: right;\n",
       "    }\n",
       "</style>\n",
       "<table border=\"1\" class=\"dataframe\">\n",
       "  <thead>\n",
       "    <tr style=\"text-align: right;\">\n",
       "      <th></th>\n",
       "      <th>customer_id</th>\n",
       "      <th>first_name</th>\n",
       "      <th>last_name</th>\n",
       "      <th>age</th>\n",
       "      <th>state</th>\n",
       "      <th>income</th>\n",
       "      <th>registration_date</th>\n",
       "      <th>email</th>\n",
       "    </tr>\n",
       "  </thead>\n",
       "  <tbody>\n",
       "    <tr>\n",
       "      <th>0</th>\n",
       "      <td>1</td>\n",
       "      <td>John</td>\n",
       "      <td>Smith</td>\n",
       "      <td>34</td>\n",
       "      <td>CA</td>\n",
       "      <td>75000</td>\n",
       "      <td>2022-01-15</td>\n",
       "      <td>john.smith@email.com</td>\n",
       "    </tr>\n",
       "    <tr>\n",
       "      <th>1</th>\n",
       "      <td>2</td>\n",
       "      <td>Sarah</td>\n",
       "      <td>Johnson</td>\n",
       "      <td>28</td>\n",
       "      <td>NY</td>\n",
       "      <td>82000</td>\n",
       "      <td>2022-01-22</td>\n",
       "      <td>sarah.johnson@email.com</td>\n",
       "    </tr>\n",
       "    <tr>\n",
       "      <th>2</th>\n",
       "      <td>3</td>\n",
       "      <td>Michael</td>\n",
       "      <td>Brown</td>\n",
       "      <td>45</td>\n",
       "      <td>TX</td>\n",
       "      <td>95000</td>\n",
       "      <td>2022-02-03</td>\n",
       "      <td>michael.brown@email.com</td>\n",
       "    </tr>\n",
       "  </tbody>\n",
       "</table>\n",
       "</div>"
      ],
      "text/plain": [
       "   customer_id first_name last_name  age state  income registration_date  \\\n",
       "0            1       John     Smith   34    CA   75000        2022-01-15   \n",
       "1            2      Sarah   Johnson   28    NY   82000        2022-01-22   \n",
       "2            3    Michael     Brown   45    TX   95000        2022-02-03   \n",
       "\n",
       "                     email  \n",
       "0     john.smith@email.com  \n",
       "1  sarah.johnson@email.com  \n",
       "2  michael.brown@email.com  "
      ]
     },
     "execution_count": 9,
     "metadata": {},
     "output_type": "execute_result"
    }
   ],
   "source": [
    "customers.head(3)"
   ]
  },
  {
   "cell_type": "code",
   "execution_count": 11,
   "id": "b2c2e1db-0391-4c92-82ac-28b040c3685e",
   "metadata": {},
   "outputs": [
    {
     "data": {
      "text/html": [
       "<div>\n",
       "<style scoped>\n",
       "    .dataframe tbody tr th:only-of-type {\n",
       "        vertical-align: middle;\n",
       "    }\n",
       "\n",
       "    .dataframe tbody tr th {\n",
       "        vertical-align: top;\n",
       "    }\n",
       "\n",
       "    .dataframe thead th {\n",
       "        text-align: right;\n",
       "    }\n",
       "</style>\n",
       "<table border=\"1\" class=\"dataframe\">\n",
       "  <thead>\n",
       "    <tr style=\"text-align: right;\">\n",
       "      <th></th>\n",
       "      <th>product_id</th>\n",
       "      <th>product_name</th>\n",
       "      <th>category</th>\n",
       "      <th>price</th>\n",
       "      <th>launch_date</th>\n",
       "      <th>brand</th>\n",
       "    </tr>\n",
       "  </thead>\n",
       "  <tbody>\n",
       "    <tr>\n",
       "      <th>0</th>\n",
       "      <td>1</td>\n",
       "      <td>Wireless Bluetooth Headphones</td>\n",
       "      <td>Electronics</td>\n",
       "      <td>79.99</td>\n",
       "      <td>2021-03-15</td>\n",
       "      <td>AudioTech</td>\n",
       "    </tr>\n",
       "    <tr>\n",
       "      <th>1</th>\n",
       "      <td>2</td>\n",
       "      <td>Organic Cotton T-Shirt</td>\n",
       "      <td>Clothing</td>\n",
       "      <td>24.99</td>\n",
       "      <td>2021-04-20</td>\n",
       "      <td>EcoWear</td>\n",
       "    </tr>\n",
       "    <tr>\n",
       "      <th>2</th>\n",
       "      <td>3</td>\n",
       "      <td>Stainless Steel Water Bottle</td>\n",
       "      <td>Home &amp; Garden</td>\n",
       "      <td>19.99</td>\n",
       "      <td>2021-05-10</td>\n",
       "      <td>HydroLife</td>\n",
       "    </tr>\n",
       "  </tbody>\n",
       "</table>\n",
       "</div>"
      ],
      "text/plain": [
       "   product_id                   product_name       category  price  \\\n",
       "0           1  Wireless Bluetooth Headphones    Electronics  79.99   \n",
       "1           2         Organic Cotton T-Shirt       Clothing  24.99   \n",
       "2           3   Stainless Steel Water Bottle  Home & Garden  19.99   \n",
       "\n",
       "  launch_date      brand  \n",
       "0  2021-03-15  AudioTech  \n",
       "1  2021-04-20    EcoWear  \n",
       "2  2021-05-10  HydroLife  "
      ]
     },
     "execution_count": 11,
     "metadata": {},
     "output_type": "execute_result"
    }
   ],
   "source": [
    "products.head(3)"
   ]
  },
  {
   "cell_type": "code",
   "execution_count": 13,
   "id": "44382afe-93a0-483a-887f-f2a8090b8739",
   "metadata": {},
   "outputs": [
    {
     "data": {
      "text/html": [
       "<div>\n",
       "<style scoped>\n",
       "    .dataframe tbody tr th:only-of-type {\n",
       "        vertical-align: middle;\n",
       "    }\n",
       "\n",
       "    .dataframe tbody tr th {\n",
       "        vertical-align: top;\n",
       "    }\n",
       "\n",
       "    .dataframe thead th {\n",
       "        text-align: right;\n",
       "    }\n",
       "</style>\n",
       "<table border=\"1\" class=\"dataframe\">\n",
       "  <thead>\n",
       "    <tr style=\"text-align: right;\">\n",
       "      <th></th>\n",
       "      <th>sale_id</th>\n",
       "      <th>customer_id</th>\n",
       "      <th>product_id</th>\n",
       "      <th>transaction_date</th>\n",
       "      <th>quantity</th>\n",
       "      <th>total_amount</th>\n",
       "    </tr>\n",
       "  </thead>\n",
       "  <tbody>\n",
       "    <tr>\n",
       "      <th>0</th>\n",
       "      <td>1</td>\n",
       "      <td>1</td>\n",
       "      <td>1</td>\n",
       "      <td>2022-02-10 14:30:00</td>\n",
       "      <td>1</td>\n",
       "      <td>79.99</td>\n",
       "    </tr>\n",
       "    <tr>\n",
       "      <th>1</th>\n",
       "      <td>2</td>\n",
       "      <td>2</td>\n",
       "      <td>3</td>\n",
       "      <td>2022-02-15 10:15:00</td>\n",
       "      <td>2</td>\n",
       "      <td>39.98</td>\n",
       "    </tr>\n",
       "    <tr>\n",
       "      <th>2</th>\n",
       "      <td>3</td>\n",
       "      <td>3</td>\n",
       "      <td>5</td>\n",
       "      <td>2022-02-20 16:45:00</td>\n",
       "      <td>1</td>\n",
       "      <td>34.99</td>\n",
       "    </tr>\n",
       "  </tbody>\n",
       "</table>\n",
       "</div>"
      ],
      "text/plain": [
       "   sale_id  customer_id  product_id     transaction_date  quantity  \\\n",
       "0        1            1           1  2022-02-10 14:30:00         1   \n",
       "1        2            2           3  2022-02-15 10:15:00         2   \n",
       "2        3            3           5  2022-02-20 16:45:00         1   \n",
       "\n",
       "   total_amount  \n",
       "0         79.99  \n",
       "1         39.98  \n",
       "2         34.99  "
      ]
     },
     "execution_count": 13,
     "metadata": {},
     "output_type": "execute_result"
    }
   ],
   "source": [
    "sales.head(3)"
   ]
  },
  {
   "cell_type": "code",
   "execution_count": 15,
   "id": "e432f3a0-4247-432c-a667-e4ed615ffc4c",
   "metadata": {},
   "outputs": [],
   "source": [
    "#1.1.a #Convert date string columns to datetime objects\n",
    "customers['registration_date'] = pd.to_datetime(customers['registration_date'])\n",
    "sales['transaction_date'] = pd.to_datetime(sales['transaction_date'])\n",
    "products['launch_date'] = pd.to_datetime(products['launch_date'])"
   ]
  },
  {
   "cell_type": "code",
   "execution_count": 17,
   "id": "ae932f0d-2747-4d0f-bd0f-e76fb7b3d7d9",
   "metadata": {},
   "outputs": [],
   "source": [
    "#1.1.b Extract year, month, and day of week for sales transactions\n",
    "sales['sales_year'] = sales['transaction_date'].dt.year\n",
    "sales['sales_month'] = sales['transaction_date'].dt.month_name()\n",
    "sales['sales_day'] = sales['transaction_date'].dt.day_name()"
   ]
  },
  {
   "cell_type": "code",
   "execution_count": 19,
   "id": "19aa0cbf-c888-47cc-ac09-fb13239c934a",
   "metadata": {},
   "outputs": [
    {
     "data": {
      "text/html": [
       "<div>\n",
       "<style scoped>\n",
       "    .dataframe tbody tr th:only-of-type {\n",
       "        vertical-align: middle;\n",
       "    }\n",
       "\n",
       "    .dataframe tbody tr th {\n",
       "        vertical-align: top;\n",
       "    }\n",
       "\n",
       "    .dataframe thead th {\n",
       "        text-align: right;\n",
       "    }\n",
       "</style>\n",
       "<table border=\"1\" class=\"dataframe\">\n",
       "  <thead>\n",
       "    <tr style=\"text-align: right;\">\n",
       "      <th></th>\n",
       "      <th>sale_id</th>\n",
       "      <th>customer_id</th>\n",
       "      <th>product_id</th>\n",
       "      <th>transaction_date</th>\n",
       "      <th>quantity</th>\n",
       "      <th>total_amount</th>\n",
       "      <th>sales_year</th>\n",
       "      <th>sales_month</th>\n",
       "      <th>sales_day</th>\n",
       "    </tr>\n",
       "  </thead>\n",
       "  <tbody>\n",
       "    <tr>\n",
       "      <th>0</th>\n",
       "      <td>1</td>\n",
       "      <td>1</td>\n",
       "      <td>1</td>\n",
       "      <td>2022-02-10 14:30:00</td>\n",
       "      <td>1</td>\n",
       "      <td>79.99</td>\n",
       "      <td>2022</td>\n",
       "      <td>February</td>\n",
       "      <td>Thursday</td>\n",
       "    </tr>\n",
       "    <tr>\n",
       "      <th>1</th>\n",
       "      <td>2</td>\n",
       "      <td>2</td>\n",
       "      <td>3</td>\n",
       "      <td>2022-02-15 10:15:00</td>\n",
       "      <td>2</td>\n",
       "      <td>39.98</td>\n",
       "      <td>2022</td>\n",
       "      <td>February</td>\n",
       "      <td>Tuesday</td>\n",
       "    </tr>\n",
       "    <tr>\n",
       "      <th>2</th>\n",
       "      <td>3</td>\n",
       "      <td>3</td>\n",
       "      <td>5</td>\n",
       "      <td>2022-02-20 16:45:00</td>\n",
       "      <td>1</td>\n",
       "      <td>34.99</td>\n",
       "      <td>2022</td>\n",
       "      <td>February</td>\n",
       "      <td>Sunday</td>\n",
       "    </tr>\n",
       "    <tr>\n",
       "      <th>3</th>\n",
       "      <td>4</td>\n",
       "      <td>4</td>\n",
       "      <td>2</td>\n",
       "      <td>2022-02-25 11:20:00</td>\n",
       "      <td>3</td>\n",
       "      <td>74.97</td>\n",
       "      <td>2022</td>\n",
       "      <td>February</td>\n",
       "      <td>Friday</td>\n",
       "    </tr>\n",
       "    <tr>\n",
       "      <th>4</th>\n",
       "      <td>5</td>\n",
       "      <td>5</td>\n",
       "      <td>4</td>\n",
       "      <td>2022-03-01 13:10:00</td>\n",
       "      <td>1</td>\n",
       "      <td>89.99</td>\n",
       "      <td>2022</td>\n",
       "      <td>March</td>\n",
       "      <td>Tuesday</td>\n",
       "    </tr>\n",
       "  </tbody>\n",
       "</table>\n",
       "</div>"
      ],
      "text/plain": [
       "   sale_id  customer_id  product_id    transaction_date  quantity  \\\n",
       "0        1            1           1 2022-02-10 14:30:00         1   \n",
       "1        2            2           3 2022-02-15 10:15:00         2   \n",
       "2        3            3           5 2022-02-20 16:45:00         1   \n",
       "3        4            4           2 2022-02-25 11:20:00         3   \n",
       "4        5            5           4 2022-03-01 13:10:00         1   \n",
       "\n",
       "   total_amount  sales_year sales_month sales_day  \n",
       "0         79.99        2022    February  Thursday  \n",
       "1         39.98        2022    February   Tuesday  \n",
       "2         34.99        2022    February    Sunday  \n",
       "3         74.97        2022    February    Friday  \n",
       "4         89.99        2022       March   Tuesday  "
      ]
     },
     "execution_count": 19,
     "metadata": {},
     "output_type": "execute_result"
    }
   ],
   "source": [
    "sales.head()"
   ]
  },
  {
   "cell_type": "code",
   "execution_count": 21,
   "id": "fd8fc824-4973-4ee6-8f9e-6d5ca88e6bfb",
   "metadata": {},
   "outputs": [
    {
     "name": "stdout",
     "output_type": "stream",
     "text": [
      "Min_Date: 2022-02-10 14:30:00\n",
      "Max_Date: 2024-03-05 10:30:00\n"
     ]
    }
   ],
   "source": [
    "#1.1.c Find the date range of our sales data by using min() and max()\n",
    "min_date = sales['transaction_date'].min()\n",
    "print('Min_Date:', min_date)\n",
    "max_date = sales['transaction_date'].max()\n",
    "print('Max_Date:', max_date)"
   ]
  },
  {
   "cell_type": "code",
   "execution_count": 23,
   "id": "470e6555-87da-41e0-b68e-e38935d57fd2",
   "metadata": {},
   "outputs": [
    {
     "data": {
      "text/plain": [
       "sales_day\n",
       "Friday      24\n",
       "Tuesday     22\n",
       "Thursday    21\n",
       "Sunday      21\n",
       "Saturday    21\n",
       "Name: count, dtype: int64"
      ]
     },
     "execution_count": 23,
     "metadata": {},
     "output_type": "execute_result"
    }
   ],
   "source": [
    "# Find the busiest day of the week by counting transactions\n",
    "# .value_counts() counts occurrences of each unique value\n",
    "# Count transactions for each day name\n",
    "# Display all days ranked by transaction count for complete picture\n",
    "sales['sales_day'].value_counts().head()\n"
   ]
  },
  {
   "cell_type": "code",
   "execution_count": 25,
   "id": "de40d973-9fb3-48f5-ba2a-a5ef0923d224",
   "metadata": {},
   "outputs": [
    {
     "data": {
      "text/plain": [
       "sales_day\n",
       "Friday    24\n",
       "Name: count, dtype: int64"
      ]
     },
     "execution_count": 25,
     "metadata": {},
     "output_type": "execute_result"
    }
   ],
   "source": [
    "# 1.1.a Get the day with most transactions (first in sorted list)\n",
    "         # Get the count for that day\n",
    "sales['sales_day'].value_counts().head(1)"
   ]
  },
  {
   "cell_type": "code",
   "execution_count": 27,
   "id": "6bfe4641-bf1c-42ea-a423-1b684612465b",
   "metadata": {},
   "outputs": [
    {
     "data": {
      "text/plain": [
       "sales_month\n",
       "February    16\n",
       "March       14\n",
       "December    14\n",
       "April       12\n",
       "May         12\n",
       "Name: count, dtype: int64"
      ]
     },
     "execution_count": 27,
     "metadata": {},
     "output_type": "execute_result"
    }
   ],
   "source": [
    "#1.2.b Determine which month had the most transactions\n",
    "sales['sales_month'].value_counts().head()"
   ]
  },
  {
   "cell_type": "code",
   "execution_count": 29,
   "id": "63e8e9f3-e322-4ae6-ad8b-0066a504c9a2",
   "metadata": {},
   "outputs": [
    {
     "data": {
      "text/plain": [
       "sales_year\n",
       "2023    72\n",
       "2022    65\n",
       "2024    13\n",
       "Name: count, dtype: int64"
      ]
     },
     "execution_count": 29,
     "metadata": {},
     "output_type": "execute_result"
    }
   ],
   "source": [
    "#1.3.c Count how many sales happened in each year\n",
    "sales['sales_year'].value_counts()"
   ]
  },
  {
   "cell_type": "code",
   "execution_count": 31,
   "id": "c8df4e9a-d4fb-4a79-a87b-ce296cff8574",
   "metadata": {},
   "outputs": [],
   "source": [
    "#Part 2: GroupBy and Aggregation\n",
    "#Product Analysis:\n",
    "#2.1a Group products by category and calculate the average price for each category"
   ]
  },
  {
   "cell_type": "code",
   "execution_count": 33,
   "id": "33d756bb-9950-4229-a6d8-bba455a42d32",
   "metadata": {},
   "outputs": [
    {
     "data": {
      "text/plain": [
       "category\n",
       "Accessories           35.07\n",
       "Clothing              52.24\n",
       "Electronics           59.99\n",
       "Home & Garden         30.16\n",
       "Sports & Outdoors    105.90\n",
       "Name: price, dtype: float64"
      ]
     },
     "execution_count": 33,
     "metadata": {},
     "output_type": "execute_result"
    }
   ],
   "source": [
    "products.groupby('category')['price'].mean().round(2)"
   ]
  },
  {
   "cell_type": "code",
   "execution_count": 35,
   "id": "1d2fa758-c8e1-499f-aa20-1cf2d54b2e07",
   "metadata": {},
   "outputs": [],
   "source": [
    "#2.1b Count how many products are in each category"
   ]
  },
  {
   "cell_type": "code",
   "execution_count": 37,
   "id": "67339ea1-14e4-44e3-a0d9-3ecde8b307df",
   "metadata": {},
   "outputs": [
    {
     "data": {
      "text/plain": [
       "category\n",
       "Electronics          13\n",
       "Clothing             12\n",
       "Home & Garden        12\n",
       "Accessories          12\n",
       "Sports & Outdoors    11\n",
       "Name: count, dtype: int64"
      ]
     },
     "execution_count": 37,
     "metadata": {},
     "output_type": "execute_result"
    }
   ],
   "source": [
    "products['category'].value_counts()"
   ]
  },
  {
   "cell_type": "code",
   "execution_count": 39,
   "id": "50bd244d-7ab4-4c49-bbbb-f8ed98635825",
   "metadata": {},
   "outputs": [],
   "source": [
    "# Group products by category and calculate average price for each category\n",
    "# .groupby() splits the data into groups based on the 'category' column\n",
    "# .mean() calculates the average for each group\n",
    "# .round(2) rounds to 2 decimal places for currency formatting\n",
    "# .sort_values(ascending=False) sorts from highest to lowest price\n",
    "# Loop through each category and its average price             \n",
    "# Format with dollar sign\n",
    "# .value_counts() counts occurrences of each unique category"
   ]
  },
  {
   "cell_type": "code",
   "execution_count": 41,
   "id": "d847bd04-f415-419b-a43c-5eb3a9e3e809",
   "metadata": {},
   "outputs": [
    {
     "data": {
      "text/plain": [
       "state\n",
       "CA    34.1\n",
       "FL    39.0\n",
       "IL    37.2\n",
       "NY    36.5\n",
       "TX    38.3\n",
       "Name: age, dtype: float64"
      ]
     },
     "execution_count": 41,
     "metadata": {},
     "output_type": "execute_result"
    }
   ],
   "source": [
    "#2.1.a Group customers by state and calculate average age\n",
    "# This shows us the demographic profile of customers in different regions\n",
    "customers.groupby('state')['age'].mean().round(1)"
   ]
  },
  {
   "cell_type": "code",
   "execution_count": 43,
   "id": "55519335-3a91-481c-8eb5-560e238d66a3",
   "metadata": {},
   "outputs": [
    {
     "data": {
      "text/plain": [
       "customer_id\n",
       "1     229.98\n",
       "2     179.96\n",
       "3     154.98\n",
       "4     234.95\n",
       "5     149.98\n",
       "       ...  \n",
       "86     34.99\n",
       "87     83.97\n",
       "88    109.98\n",
       "89     29.99\n",
       "90    139.96\n",
       "Name: total_amount, Length: 90, dtype: float64"
      ]
     },
     "execution_count": 43,
     "metadata": {},
     "output_type": "execute_result"
    }
   ],
   "source": [
    "#2.2.b calculate total spending per customer\n",
    "sales.groupby('customer_id')['total_amount'].sum()"
   ]
  },
  {
   "cell_type": "code",
   "execution_count": 45,
   "id": "146dbd3d-423c-402b-bae7-b1a0075baebd",
   "metadata": {},
   "outputs": [
    {
     "data": {
      "text/plain": [
       "customer_id\n",
       "1     2\n",
       "32    2\n",
       "34    2\n",
       "35    2\n",
       "36    2\n",
       "     ..\n",
       "65    1\n",
       "64    1\n",
       "63    1\n",
       "62    1\n",
       "90    1\n",
       "Length: 90, dtype: int64"
      ]
     },
     "execution_count": 45,
     "metadata": {},
     "output_type": "execute_result"
    }
   ],
   "source": [
    "#2.2c Find the customers who have the made the most purchases\n",
    "sales.groupby('customer_id').size().sort_values(ascending=False)"
   ]
  },
  {
   "cell_type": "code",
   "execution_count": 47,
   "id": "ed0a6da9-3e25-40f7-8452-699715bb72fc",
   "metadata": {},
   "outputs": [
    {
     "name": "stdout",
     "output_type": "stream",
     "text": [
      "\n",
      "Customer with most purchases: Customer #1 (2 purchases)\n"
     ]
    }
   ],
   "source": [
    "# Find customers with the most purchases (transaction frequency)\n",
    "# .groupby().size() counts the number of transactions per customer\n",
    "# This is different from sum() - it counts rows, not values\n",
    "customer_purchase_counts = sales.groupby('customer_id').size().sort_values(ascending=False)\n",
    "top_buyer_id = customer_purchase_counts.index[0]       \n",
    "# Customer ID with most purchases\n",
    "top_buyer_purchases = customer_purchase_counts.iloc[0]  \n",
    "# Number of purchases by top customer\n",
    "print(f\"\\nCustomer with most purchases: Customer #{top_buyer_id} ({top_buyer_purchases} purchases)\")"
   ]
  },
  {
   "cell_type": "code",
   "execution_count": 49,
   "id": "390c2632-2e2c-4519-b973-704dfaeede3a",
   "metadata": {},
   "outputs": [
    {
     "data": {
      "text/html": [
       "<div>\n",
       "<style scoped>\n",
       "    .dataframe tbody tr th:only-of-type {\n",
       "        vertical-align: middle;\n",
       "    }\n",
       "\n",
       "    .dataframe tbody tr th {\n",
       "        vertical-align: top;\n",
       "    }\n",
       "\n",
       "    .dataframe thead th {\n",
       "        text-align: right;\n",
       "    }\n",
       "</style>\n",
       "<table border=\"1\" class=\"dataframe\">\n",
       "  <thead>\n",
       "    <tr style=\"text-align: right;\">\n",
       "      <th></th>\n",
       "      <th>customer_id</th>\n",
       "      <th>first_name</th>\n",
       "      <th>last_name</th>\n",
       "      <th>age</th>\n",
       "      <th>state</th>\n",
       "      <th>income</th>\n",
       "      <th>registration_date</th>\n",
       "      <th>email</th>\n",
       "    </tr>\n",
       "  </thead>\n",
       "  <tbody>\n",
       "    <tr>\n",
       "      <th>0</th>\n",
       "      <td>1</td>\n",
       "      <td>John</td>\n",
       "      <td>Smith</td>\n",
       "      <td>34</td>\n",
       "      <td>CA</td>\n",
       "      <td>75000</td>\n",
       "      <td>2022-01-15</td>\n",
       "      <td>john.smith@email.com</td>\n",
       "    </tr>\n",
       "    <tr>\n",
       "      <th>1</th>\n",
       "      <td>2</td>\n",
       "      <td>Sarah</td>\n",
       "      <td>Johnson</td>\n",
       "      <td>28</td>\n",
       "      <td>NY</td>\n",
       "      <td>82000</td>\n",
       "      <td>2022-01-22</td>\n",
       "      <td>sarah.johnson@email.com</td>\n",
       "    </tr>\n",
       "    <tr>\n",
       "      <th>2</th>\n",
       "      <td>3</td>\n",
       "      <td>Michael</td>\n",
       "      <td>Brown</td>\n",
       "      <td>45</td>\n",
       "      <td>TX</td>\n",
       "      <td>95000</td>\n",
       "      <td>2022-02-03</td>\n",
       "      <td>michael.brown@email.com</td>\n",
       "    </tr>\n",
       "    <tr>\n",
       "      <th>3</th>\n",
       "      <td>4</td>\n",
       "      <td>Emily</td>\n",
       "      <td>Davis</td>\n",
       "      <td>31</td>\n",
       "      <td>FL</td>\n",
       "      <td>68000</td>\n",
       "      <td>2022-02-14</td>\n",
       "      <td>emily.davis@email.com</td>\n",
       "    </tr>\n",
       "    <tr>\n",
       "      <th>4</th>\n",
       "      <td>5</td>\n",
       "      <td>David</td>\n",
       "      <td>Wilson</td>\n",
       "      <td>52</td>\n",
       "      <td>IL</td>\n",
       "      <td>110000</td>\n",
       "      <td>2022-02-28</td>\n",
       "      <td>david.wilson@email.com</td>\n",
       "    </tr>\n",
       "  </tbody>\n",
       "</table>\n",
       "</div>"
      ],
      "text/plain": [
       "   customer_id first_name last_name  age state  income registration_date  \\\n",
       "0            1       John     Smith   34    CA   75000        2022-01-15   \n",
       "1            2      Sarah   Johnson   28    NY   82000        2022-01-22   \n",
       "2            3    Michael     Brown   45    TX   95000        2022-02-03   \n",
       "3            4      Emily     Davis   31    FL   68000        2022-02-14   \n",
       "4            5      David    Wilson   52    IL  110000        2022-02-28   \n",
       "\n",
       "                     email  \n",
       "0     john.smith@email.com  \n",
       "1  sarah.johnson@email.com  \n",
       "2  michael.brown@email.com  \n",
       "3    emily.davis@email.com  \n",
       "4   david.wilson@email.com  "
      ]
     },
     "execution_count": 49,
     "metadata": {},
     "output_type": "execute_result"
    }
   ],
   "source": [
    "customers.head()"
   ]
  },
  {
   "cell_type": "code",
   "execution_count": 51,
   "id": "5c7b36c3-617e-4a3a-a2cd-d8498dcc146e",
   "metadata": {},
   "outputs": [],
   "source": [
    "#2.3.a Calculate total sales revenue by month"
   ]
  },
  {
   "cell_type": "code",
   "execution_count": 53,
   "id": "3cdfd669-c038-46ba-8d03-5ef49f1d15a5",
   "metadata": {},
   "outputs": [
    {
     "data": {
      "text/plain": [
       "sales_month\n",
       "April         924.77\n",
       "August        870.74\n",
       "December     1458.71\n",
       "February     1669.66\n",
       "January       864.79\n",
       "July          930.80\n",
       "June          986.68\n",
       "March        1115.77\n",
       "May          1177.79\n",
       "November     1022.76\n",
       "October      1235.80\n",
       "September    1150.76\n",
       "Name: total_amount, dtype: float64"
      ]
     },
     "execution_count": 53,
     "metadata": {},
     "output_type": "execute_result"
    }
   ],
   "source": [
    "sales.groupby('sales_month')['total_amount'].sum()"
   ]
  },
  {
   "cell_type": "code",
   "execution_count": 55,
   "id": "7ef254d2-e355-4d27-8a01-426714777d83",
   "metadata": {},
   "outputs": [],
   "source": [
    "#2.3.b Find the average transaction amount by day of the week"
   ]
  },
  {
   "cell_type": "code",
   "execution_count": 57,
   "id": "820196ad-3caa-4a5c-8f0f-1fdfcb558fd1",
   "metadata": {},
   "outputs": [
    {
     "data": {
      "text/plain": [
       "sales_day\n",
       "Friday       100.94\n",
       "Monday        90.93\n",
       "Saturday      61.12\n",
       "Sunday        99.55\n",
       "Thursday     102.27\n",
       "Tuesday       74.03\n",
       "Wednesday     96.07\n",
       "Name: total_amount, dtype: float64"
      ]
     },
     "execution_count": 57,
     "metadata": {},
     "output_type": "execute_result"
    }
   ],
   "source": [
    "sales.groupby('sales_day')['total_amount'].mean().round(2)"
   ]
  },
  {
   "cell_type": "code",
   "execution_count": 59,
   "id": "ea3aeb66-4f19-46b8-ab38-e759117fa7e2",
   "metadata": {},
   "outputs": [],
   "source": [
    "#2.3.c Determine which product category generates the most total revenue"
   ]
  },
  {
   "cell_type": "code",
   "execution_count": 61,
   "id": "90ab07c3-bdc3-4258-a677-e0b1c7b1a19c",
   "metadata": {},
   "outputs": [
    {
     "data": {
      "text/plain": [
       "category\n",
       "Electronics          13\n",
       "Accessories          12\n",
       "Clothing             12\n",
       "Home & Garden        12\n",
       "Sports & Outdoors    11\n",
       "Name: price, dtype: int64"
      ]
     },
     "execution_count": 61,
     "metadata": {},
     "output_type": "execute_result"
    }
   ],
   "source": [
    "products.groupby('category')['price'].size().sort_values(ascending=False)"
   ]
  },
  {
   "cell_type": "code",
   "execution_count": 63,
   "id": "b8db134e-a410-4c37-b63f-3d32fa21be21",
   "metadata": {},
   "outputs": [],
   "source": [
    "#3.1.a Find which state has the most customers"
   ]
  },
  {
   "cell_type": "code",
   "execution_count": 65,
   "id": "e876b85d-db91-465f-b99c-9aa825fe4294",
   "metadata": {},
   "outputs": [
    {
     "data": {
      "text/plain": [
       "state\n",
       "CA    20\n",
       "NY    20\n",
       "TX    20\n",
       "FL    20\n",
       "IL    20\n",
       "Name: count, dtype: int64"
      ]
     },
     "execution_count": 65,
     "metadata": {},
     "output_type": "execute_result"
    }
   ],
   "source": [
    "customers['state'].value_counts()"
   ]
  },
  {
   "cell_type": "code",
   "execution_count": 67,
   "id": "6abde13e-dc79-438b-97a1-ac8a3b6d4789",
   "metadata": {},
   "outputs": [],
   "source": [
    "#3.1.b Identify the top 5 customers by total spending"
   ]
  },
  {
   "cell_type": "code",
   "execution_count": 69,
   "id": "456223ff-bdfc-41af-b4eb-3550677bbd87",
   "metadata": {},
   "outputs": [
    {
     "data": {
      "text/plain": [
       "customer_id\n",
       "1     2\n",
       "32    2\n",
       "34    2\n",
       "35    2\n",
       "36    2\n",
       "Name: total_amount, dtype: int64"
      ]
     },
     "execution_count": 69,
     "metadata": {},
     "output_type": "execute_result"
    }
   ],
   "source": [
    "sales.groupby('customer_id')['total_amount'].size().sort_values(ascending=False).head()"
   ]
  },
  {
   "cell_type": "code",
   "execution_count": 71,
   "id": "dc24d5ef-5533-4be1-be41-1aa16896bd46",
   "metadata": {},
   "outputs": [],
   "source": [
    "#3.1.c Determine which day of the week has the highest average transaction value"
   ]
  },
  {
   "cell_type": "code",
   "execution_count": 73,
   "id": "c38d3a15-c201-467f-84cc-d951aac1ae42",
   "metadata": {},
   "outputs": [
    {
     "data": {
      "text/plain": [
       "sales_day\n",
       "Friday       100.94\n",
       "Monday        90.93\n",
       "Saturday      61.12\n",
       "Sunday        99.55\n",
       "Thursday     102.27\n",
       "Tuesday       74.03\n",
       "Wednesday     96.07\n",
       "Name: total_amount, dtype: float64"
      ]
     },
     "execution_count": 73,
     "metadata": {},
     "output_type": "execute_result"
    }
   ],
   "source": [
    "sales.groupby('sales_day')['total_amount'].mean().round(2)"
   ]
  }
 ],
 "metadata": {
  "kernelspec": {
   "display_name": "Python [conda env:base] *",
   "language": "python",
   "name": "conda-base-py"
  },
  "language_info": {
   "codemirror_mode": {
    "name": "ipython",
    "version": 3
   },
   "file_extension": ".py",
   "mimetype": "text/x-python",
   "name": "python",
   "nbconvert_exporter": "python",
   "pygments_lexer": "ipython3",
   "version": "3.12.7"
  }
 },
 "nbformat": 4,
 "nbformat_minor": 5
}
